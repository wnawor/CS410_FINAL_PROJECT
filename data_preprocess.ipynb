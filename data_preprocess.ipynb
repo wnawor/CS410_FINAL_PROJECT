{
 "cells": [
  {
   "cell_type": "code",
   "execution_count": 18,
   "id": "d69497b7",
   "metadata": {},
   "outputs": [],
   "source": [
    "# Import the required packages\n",
    "\n",
    "import pandas as pd\n",
    "import numpy as np"
   ]
  },
  {
   "cell_type": "code",
   "execution_count": 3,
   "id": "a2139bd7",
   "metadata": {},
   "outputs": [],
   "source": [
    "# Load in the reviews and filter on reviews for 2023 albums\n",
    "\n",
    "df = pd.read_csv('reviews.csv') \n",
    "df = df[df['review'].isna() == False]\n",
    "df = df[df['year_released'] == 2023].reset_index(drop=True)"
   ]
  },
  {
   "cell_type": "code",
   "execution_count": 36,
   "id": "a2a0270d",
   "metadata": {},
   "outputs": [],
   "source": [
    "# Add a column to the dataframe with a list of all of the words in each review\n",
    "\n",
    "df['words'] = df['review'].str.lower().str.split(r'\\W+')\n",
    "\n",
    "# Remove one letter words\n",
    "def remove_short_words(words):\n",
    "    words = [word for word in words if len(word) > 2]\n",
    "    return words\n",
    "\n",
    "df['words'] = df['words'].apply(remove_short_words) "
   ]
  },
  {
   "cell_type": "code",
   "execution_count": 37,
   "id": "cd022501",
   "metadata": {},
   "outputs": [],
   "source": [
    "# Create a set of vocabulary based on all of the unique words in the reviews\n",
    "\n",
    "vocab = set()\n",
    "\n",
    "for words in df['words']:\n",
    "    for word in words:\n",
    "        vocab.add(word)\n",
    "vocab = list(vocab)"
   ]
  },
  {
   "cell_type": "code",
   "execution_count": 38,
   "id": "035c87b7",
   "metadata": {},
   "outputs": [],
   "source": [
    "# Calculate term frequency for each review\n",
    "\n",
    "def tf(words, vocab):\n",
    "    vec = pd.Series(0, index=vocab)\n",
    "    for word in words:\n",
    "        if word in vocab:\n",
    "            vec[word] += 1\n",
    "    return vec / len(words)\n",
    "\n",
    "tf_df = df['words'].apply(lambda words: tf(words, vocab))"
   ]
  },
  {
   "cell_type": "code",
   "execution_count": 40,
   "id": "591cb74d",
   "metadata": {},
   "outputs": [],
   "source": [
    "# Calculate inverse document frequency and multiply to get TF-IDF\n",
    "\n",
    "idf = pd.Series(0, index=vocab)\n",
    "\n",
    "for term in vocab:\n",
    "    doc_count = sum(word in words for words in df['words'])\n",
    "    idf[term] = np.log((len(df) + 1) / (doc_count + 1)) + 1\n",
    "    \n",
    "tf_idf = tf_df * idf"
   ]
  },
  {
   "cell_type": "code",
   "execution_count": 43,
   "id": "6f25415c",
   "metadata": {},
   "outputs": [],
   "source": [
    "# Create cosine similarity function and calculate similarity matrix\n",
    "\n",
    "def cosine(a, b):\n",
    "    return np.dot(a, b)  / (np.linalg.norm(a) * np.linalg.norm(b))\n",
    "\n",
    "similarity_matrix = pd.DataFrame(0, index=df.index, columns=df.index)\n",
    "for index1, row1 in tf_idf.iterrows():\n",
    "    for index2, row2 in tf_idf.iterrows():\n",
    "        similarity_matrix.iloc[index1, index2] = cosine(row1, row2)"
   ]
  },
  {
   "cell_type": "code",
   "execution_count": 60,
   "id": "97182522",
   "metadata": {},
   "outputs": [],
   "source": [
    "# Save relevant dataframes\n",
    "\n",
    "similarity_matrix.to_csv('similarity.csv', index=False) \n",
    "df.to_csv('filtered_reviews.csv', index=False)"
   ]
  }
 ],
 "metadata": {
  "kernelspec": {
   "display_name": "Python 3 (ipykernel)",
   "language": "python",
   "name": "python3"
  },
  "language_info": {
   "codemirror_mode": {
    "name": "ipython",
    "version": 3
   },
   "file_extension": ".py",
   "mimetype": "text/x-python",
   "name": "python",
   "nbconvert_exporter": "python",
   "pygments_lexer": "ipython3",
   "version": "3.9.13"
  }
 },
 "nbformat": 4,
 "nbformat_minor": 5
}
