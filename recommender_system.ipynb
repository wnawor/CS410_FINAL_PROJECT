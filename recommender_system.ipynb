{
 "cells": [
  {
   "cell_type": "code",
   "execution_count": 2,
   "id": "d406528c",
   "metadata": {},
   "outputs": [],
   "source": [
    "# Import required packages\n",
    "\n",
    "import pandas as pd\n",
    "import PySimpleGUI as sg"
   ]
  },
  {
   "cell_type": "code",
   "execution_count": 3,
   "id": "07d2d64a",
   "metadata": {},
   "outputs": [],
   "source": [
    "# Load in the reviews and similarity matrix\n",
    "\n",
    "df = pd.read_csv('filtered_reviews.csv')\n",
    "similarity_matrix = pd.read_csv('similarity.csv') "
   ]
  },
  {
   "cell_type": "code",
   "execution_count": 4,
   "id": "1d1adc75",
   "metadata": {},
   "outputs": [],
   "source": [
    "# Create recommender based on similarity matrix\n",
    "\n",
    "def recommendations(idx):\n",
    "    sim_scores = similarity_matrix.iloc[idx].sort_values(ascending=False)\n",
    "    top_indices = sim_scores.index[1:4]\n",
    "    return df.iloc[top_indices]"
   ]
  },
  {
   "cell_type": "code",
   "execution_count": 20,
   "id": "b8e0d574",
   "metadata": {},
   "outputs": [
    {
     "name": "stdout",
     "output_type": "stream",
     "text": [
      "Ok {'choice': 'The Ones Ahead by Beverly Glenn-Copeland'}\n"
     ]
    }
   ],
   "source": [
    "# Create simple user interface to choose album from drop down\n",
    "# Return top 3 recommended albums with short descriptions\n",
    "\n",
    "album_names = list(df['album'] + ' by ' + df['artist'])\n",
    "layout = [\n",
    "    [sg.T(\"Hello\")],\n",
    "    [sg.DD(album_names,size=(40,10),key=\"choice\")],\n",
    "    [sg.Ok(),sg.Cancel()]\n",
    "]\n",
    "\n",
    "window = sg.Window(\"My app\",layout)\n",
    "event, values = window.read()\n",
    "if event == \"Cancel\":\n",
    "    window.close()\n",
    "elif event == \"Ok\":\n",
    "    idx = album_names.index(values['choice']) \n",
    "    recs = recommendations(idx)\n",
    "    text = 'We recommend... \\n\\n' + recs.iloc[0].album + ' by '  + recs.iloc[0].artist + '\\n' + recs.iloc[0].small_text + '\\n'\n",
    "    text += '\\n' + recs.iloc[1].album + ' by '  + recs.iloc[1].artist + '\\n' + recs.iloc[1].small_text + '\\n'\n",
    "    text += '\\n' + recs.iloc[2].album + ' by '  + recs.iloc[2].artist + '\\n' + recs.iloc[2].small_text\n",
    "    sg.popup(text)\n",
    "    window.close()\n",
    "\n",
    "print(event, values)"
   ]
  }
 ],
 "metadata": {
  "kernelspec": {
   "display_name": "Python 3 (ipykernel)",
   "language": "python",
   "name": "python3"
  },
  "language_info": {
   "codemirror_mode": {
    "name": "ipython",
    "version": 3
   },
   "file_extension": ".py",
   "mimetype": "text/x-python",
   "name": "python",
   "nbconvert_exporter": "python",
   "pygments_lexer": "ipython3",
   "version": "3.9.13"
  }
 },
 "nbformat": 4,
 "nbformat_minor": 5
}
